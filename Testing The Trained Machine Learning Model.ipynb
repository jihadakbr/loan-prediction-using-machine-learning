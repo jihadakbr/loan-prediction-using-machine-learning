{
 "cells": [
  {
   "cell_type": "code",
   "execution_count": 1,
   "id": "0ca8b640",
   "metadata": {},
   "outputs": [],
   "source": [
    "import numpy as np\n",
    "import joblib\n",
    "import warnings\n",
    "warnings.filterwarnings(\"ignore\")"
   ]
  },
  {
   "cell_type": "code",
   "execution_count": 2,
   "id": "ecd214d5",
   "metadata": {},
   "outputs": [
    {
     "name": "stdout",
     "output_type": "stream",
     "text": [
      "Defaulter\n"
     ]
    }
   ],
   "source": [
    "trained_model_w_pipe = joblib.load('trained_model_w_pipe.joblib')\n",
    "\n",
    "# col_0,col_1,col_2,col_3,col_4,col_5,col_6,col_7,Income,Age,Experience,CURRENT_JOB_YRS,\n",
    "# CURRENT_HOUSE_YRS,Married/Single_single,House_Ownership_owned,House_Ownership_rented,Car_Ownership_yes\n",
    "input_data = np.array([[0,1,0,0,0,0,1,0,3666346,56,12,12,11,1,0,1,0]])\n",
    "\n",
    "#std_data = scaler.transform(input_data)\n",
    "prediction = trained_model_w_pipe.predict(input_data)\n",
    "\n",
    "if prediction[0] == 0:\n",
    "    print('Non-Defaulter')\n",
    "else:\n",
    "    print('Defaulter')"
   ]
  }
 ],
 "metadata": {
  "kernelspec": {
   "display_name": "Python 3 (ipykernel)",
   "language": "python",
   "name": "python3"
  },
  "language_info": {
   "codemirror_mode": {
    "name": "ipython",
    "version": 3
   },
   "file_extension": ".py",
   "mimetype": "text/x-python",
   "name": "python",
   "nbconvert_exporter": "python",
   "pygments_lexer": "ipython3",
   "version": "3.10.9"
  }
 },
 "nbformat": 4,
 "nbformat_minor": 5
}
